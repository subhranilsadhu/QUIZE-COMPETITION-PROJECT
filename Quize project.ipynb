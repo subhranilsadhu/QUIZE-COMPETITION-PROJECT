{
 "cells": [
  {
   "cell_type": "code",
   "execution_count": 4,
   "id": "27eef6e9-22f7-4c30-8d80-e7c6f88f1283",
   "metadata": {},
   "outputs": [
    {
     "name": "stdout",
     "output_type": "stream",
     "text": [
      "Welcome to the Quiz Game By Subhranil Sadhu!\n",
      "---------------------------\n",
      "\n",
      "Q1: What is the capital of India?\n",
      "A. Mumbai\n",
      "B. New Delhi\n",
      "C. Kolkata\n",
      "D. Chennai\n"
     ]
    },
    {
     "name": "stdin",
     "output_type": "stream",
     "text": [
      "Your answer (A/B/C/D):  a\n"
     ]
    },
    {
     "name": "stdout",
     "output_type": "stream",
     "text": [
      "Wrong! The correct answer was B\n",
      "\n",
      "Q2: Which language is used to write Python?\n",
      "A. Java\n",
      "B. C\n",
      "C. English\n",
      "D. Python\n"
     ]
    },
    {
     "name": "stdin",
     "output_type": "stream",
     "text": [
      "Your answer (A/B/C/D):  d\n"
     ]
    },
    {
     "name": "stdout",
     "output_type": "stream",
     "text": [
      "Correct!\n",
      "\n",
      "Q3: Who is known as the father of computers?\n",
      "A. Charles Babbage\n",
      "B. Alan Turing\n",
      "C. Elon Musk\n",
      "D. Bill Gates\n"
     ]
    },
    {
     "name": "stdin",
     "output_type": "stream",
     "text": [
      "Your answer (A/B/C/D):  a\n"
     ]
    },
    {
     "name": "stdout",
     "output_type": "stream",
     "text": [
      "Correct!\n",
      "\n",
      "Q4: Which of these is a Python data type?\n",
      "A. circle\n",
      "B. number\n",
      "C. list\n",
      "D. chart\n"
     ]
    },
    {
     "name": "stdin",
     "output_type": "stream",
     "text": [
      "Your answer (A/B/C/D):  c\n"
     ]
    },
    {
     "name": "stdout",
     "output_type": "stream",
     "text": [
      "Correct!\n",
      "\n",
      "Q5: What does CPU stand for?\n",
      "A. Central Processing Unit\n",
      "B. Control Panel Unit\n",
      "C. Core Power Unit\n",
      "D. Central Print Unit\n"
     ]
    },
    {
     "name": "stdin",
     "output_type": "stream",
     "text": [
      "Your answer (A/B/C/D):  a\n"
     ]
    },
    {
     "name": "stdout",
     "output_type": "stream",
     "text": [
      "Correct!\n",
      "\n",
      "Q6: Who invented Python Programming Language?\n",
      "A.Guido van Rossum\n",
      "B.James Gosling\n",
      "C.Dennis Ritchie\n",
      "D.Virat Kohli\n"
     ]
    },
    {
     "name": "stdin",
     "output_type": "stream",
     "text": [
      "Your answer (A/B/C/D):  a\n"
     ]
    },
    {
     "name": "stdout",
     "output_type": "stream",
     "text": [
      "Correct!\n",
      "\n",
      "---------------------------\n",
      "Quiz Complete! You scored 5/6\n",
      "---------------------------\n"
     ]
    }
   ],
   "source": [
    "\n",
    "\n",
    "questions = [\n",
    "    {\n",
    "        \"question\": \"What is the capital of India?\",\n",
    "        \"options\": [\"A. Mumbai\", \"B. New Delhi\", \"C. Kolkata\", \"D. Chennai\"],\n",
    "        \"answer\": \"B\"\n",
    "    },\n",
    "    {\n",
    "        \"question\": \"Which language is used to write Python?\",\n",
    "        \"options\": [\"A. Java\", \"B. C\", \"C. English\", \"D. Python\"],\n",
    "        \"answer\": \"D\"\n",
    "    },\n",
    "    {\n",
    "        \"question\": \"Who is known as the father of computers?\",\n",
    "        \"options\": [\"A. Charles Babbage\", \"B. Alan Turing\", \"C. Elon Musk\", \"D. Bill Gates\"],\n",
    "        \"answer\": \"A\"\n",
    "    },\n",
    "    {\n",
    "        \"question\": \"Which of these is a Python data type?\",\n",
    "        \"options\": [\"A. circle\", \"B. number\", \"C. list\", \"D. chart\"],\n",
    "        \"answer\": \"C\"\n",
    "    },\n",
    "    {\n",
    "        \"question\": \"What does CPU stand for?\",\n",
    "        \"options\": [\"A. Central Processing Unit\", \"B. Control Panel Unit\", \"C. Core Power Unit\", \"D. Central Print Unit\"],\n",
    "        \"answer\": \"A\"\n",
    "    },\n",
    "    {\n",
    "        \"question\":\"Who invented Python Programming Language?\",\n",
    "        \"options\":[\"A.Guido van Rossum\",\"B.James Gosling\",\"C.Dennis Ritchie\",\"D.Virat Kohli\"],\n",
    "        \"answer\":\"A\"\n",
    "    }\n",
    "]\n",
    "\n",
    "score = 0\n",
    "\n",
    "print(\"Welcome to the Quiz Game By Subhranil Sadhu!\")\n",
    "print(\"---------------------------\\n\")\n",
    "\n",
    "for i, q in enumerate(questions):\n",
    "    print(f\"Q{i+1}: {q['question']}\")\n",
    "    for opt in q[\"options\"]:\n",
    "        print(opt)\n",
    "    answer = input(\"Your answer (A/B/C/D): \").upper()\n",
    "\n",
    "    if answer == q[\"answer\"]:\n",
    "        print(\"Correct!\\n\")\n",
    "        score += 1\n",
    "    else:\n",
    "        print(f\"Wrong! The correct answer was {q['answer']}\\n\")\n",
    "\n",
    "print(\"---------------------------\")\n",
    "print(f\"Quiz Complete! You scored {score}/{len(questions)}\")\n",
    "print(\"---------------------------\")\n"
   ]
  },
  {
   "cell_type": "code",
   "execution_count": null,
   "id": "ccb2bdd9-f4d5-4e65-b912-5d342aa107db",
   "metadata": {},
   "outputs": [],
   "source": []
  }
 ],
 "metadata": {
  "kernelspec": {
   "display_name": "Python 3 (ipykernel)",
   "language": "python",
   "name": "python3"
  },
  "language_info": {
   "codemirror_mode": {
    "name": "ipython",
    "version": 3
   },
   "file_extension": ".py",
   "mimetype": "text/x-python",
   "name": "python",
   "nbconvert_exporter": "python",
   "pygments_lexer": "ipython3",
   "version": "3.12.7"
  }
 },
 "nbformat": 4,
 "nbformat_minor": 5
}
